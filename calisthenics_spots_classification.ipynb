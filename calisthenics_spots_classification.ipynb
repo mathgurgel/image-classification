{
  "nbformat": 4,
  "nbformat_minor": 0,
  "metadata": {
    "colab": {
      "provenance": [],
      "gpuType": "T4",
      "authorship_tag": "ABX9TyOHjg2I0PRBe9bH2flNpeSW"
    },
    "kernelspec": {
      "name": "python3",
      "display_name": "Python 3"
    },
    "language_info": {
      "name": "python"
    },
    "accelerator": "GPU"
  },
  "cells": [
    {
      "cell_type": "code",
      "source": [
        "from google.colab import drive\n",
        "drive.mount('/content/drive')"
      ],
      "metadata": {
        "colab": {
          "base_uri": "https://localhost:8080/"
        },
        "id": "nJIuihf-3P76",
        "outputId": "cda9533b-2690-4946-ed9c-390cc1c4aa40"
      },
      "execution_count": 1,
      "outputs": [
        {
          "output_type": "stream",
          "name": "stdout",
          "text": [
            "Drive already mounted at /content/drive; to attempt to forcibly remount, call drive.mount(\"/content/drive\", force_remount=True).\n"
          ]
        }
      ]
    },
    {
      "cell_type": "code",
      "source": [
        "!pip install openimages numpy pandas scikit-learn opencv-python bing-image-downloader"
      ],
      "metadata": {
        "colab": {
          "base_uri": "https://localhost:8080/"
        },
        "id": "EB-QaUA44ES-",
        "outputId": "94025eab-6e8a-4e99-d5e3-3f81410ea353"
      },
      "execution_count": 2,
      "outputs": [
        {
          "output_type": "stream",
          "name": "stdout",
          "text": [
            "Requirement already satisfied: openimages in /usr/local/lib/python3.10/dist-packages (0.0.1)\n",
            "Requirement already satisfied: numpy in /usr/local/lib/python3.10/dist-packages (1.23.5)\n",
            "Requirement already satisfied: pandas in /usr/local/lib/python3.10/dist-packages (1.5.3)\n",
            "Requirement already satisfied: scikit-learn in /usr/local/lib/python3.10/dist-packages (1.2.2)\n",
            "Requirement already satisfied: opencv-python in /usr/local/lib/python3.10/dist-packages (4.8.0.76)\n",
            "Requirement already satisfied: bing-image-downloader in /usr/local/lib/python3.10/dist-packages (1.1.2)\n",
            "Requirement already satisfied: boto3 in /usr/local/lib/python3.10/dist-packages (from openimages) (1.28.24)\n",
            "Requirement already satisfied: cvdata in /usr/local/lib/python3.10/dist-packages (from openimages) (0.0.3)\n",
            "Requirement already satisfied: lxml in /usr/local/lib/python3.10/dist-packages (from openimages) (4.9.3)\n",
            "Requirement already satisfied: requests in /usr/local/lib/python3.10/dist-packages (from openimages) (2.31.0)\n",
            "Requirement already satisfied: tqdm in /usr/local/lib/python3.10/dist-packages (from openimages) (4.66.0)\n",
            "Requirement already satisfied: python-dateutil>=2.8.1 in /usr/local/lib/python3.10/dist-packages (from pandas) (2.8.2)\n",
            "Requirement already satisfied: pytz>=2020.1 in /usr/local/lib/python3.10/dist-packages (from pandas) (2023.3)\n",
            "Requirement already satisfied: scipy>=1.3.2 in /usr/local/lib/python3.10/dist-packages (from scikit-learn) (1.10.1)\n",
            "Requirement already satisfied: joblib>=1.1.1 in /usr/local/lib/python3.10/dist-packages (from scikit-learn) (1.3.2)\n",
            "Requirement already satisfied: threadpoolctl>=2.0.0 in /usr/local/lib/python3.10/dist-packages (from scikit-learn) (3.2.0)\n",
            "Requirement already satisfied: six>=1.5 in /usr/local/lib/python3.10/dist-packages (from python-dateutil>=2.8.1->pandas) (1.16.0)\n",
            "Requirement already satisfied: botocore<1.32.0,>=1.31.24 in /usr/local/lib/python3.10/dist-packages (from boto3->openimages) (1.31.24)\n",
            "Requirement already satisfied: jmespath<2.0.0,>=0.7.1 in /usr/local/lib/python3.10/dist-packages (from boto3->openimages) (1.0.1)\n",
            "Requirement already satisfied: s3transfer<0.7.0,>=0.6.0 in /usr/local/lib/python3.10/dist-packages (from boto3->openimages) (0.6.1)\n",
            "Requirement already satisfied: pillow in /usr/local/lib/python3.10/dist-packages (from cvdata->openimages) (9.4.0)\n",
            "Requirement already satisfied: charset-normalizer<4,>=2 in /usr/local/lib/python3.10/dist-packages (from requests->openimages) (3.2.0)\n",
            "Requirement already satisfied: idna<4,>=2.5 in /usr/local/lib/python3.10/dist-packages (from requests->openimages) (3.4)\n",
            "Requirement already satisfied: urllib3<3,>=1.21.1 in /usr/local/lib/python3.10/dist-packages (from requests->openimages) (1.26.16)\n",
            "Requirement already satisfied: certifi>=2017.4.17 in /usr/local/lib/python3.10/dist-packages (from requests->openimages) (2023.7.22)\n"
          ]
        }
      ]
    },
    {
      "cell_type": "code",
      "execution_count": null,
      "metadata": {
        "id": "WUpJA-iH2_vT",
        "colab": {
          "base_uri": "https://localhost:8080/"
        },
        "outputId": "0c71a252-44da-482e-a208-f2148977765d"
      },
      "outputs": [
        {
          "output_type": "stream",
          "name": "stderr",
          "text": [
            "<ipython-input-4-884b39536fcd>:58: VisibleDeprecationWarning: Creating an ndarray from ragged nested sequences (which is a list-or-tuple of lists-or-tuples-or ndarrays with different lengths or shapes) is deprecated. If you meant to do this, you must specify 'dtype=object' when creating the ndarray.\n",
            "  X = np.array(calisthenics_images + not_calisthenics_images)\n"
          ]
        }
      ],
      "source": [
        "import os\n",
        "import random\n",
        "import cv2\n",
        "import numpy as np\n",
        "# from openimages.download import download_images\n",
        "from bing_image_downloader import downloader\n",
        "\n",
        "from sklearn.model_selection import train_test_split\n",
        "from sklearn.svm import SVC\n",
        "from sklearn.metrics import accuracy_score\n",
        "\n",
        "def load_images_from_folder(folder_path, num_images):\n",
        "    images = []\n",
        "    random_files = random.sample(os.listdir(folder_path), num_images)\n",
        "    for filename in random_files:\n",
        "        img_path = os.path.join(folder_path, filename)\n",
        "        img = cv2.imread(img_path)\n",
        "        if img is not None:\n",
        "            images.append(img)\n",
        "    return images\n",
        "\n",
        "def test_model(model, image_path):\n",
        "    img = cv2.imread(image_path)\n",
        "    if img is not None:\n",
        "        img = cv2.resize(img, (64, 64))  # Resize the image to match the input size during training\n",
        "        img = img.reshape(1, -1) / 255.0  # Flatten and normalize the image\n",
        "        prediction = model.predict(img)\n",
        "        if prediction[0] == 1:\n",
        "            return \"calisthenics_spot\"\n",
        "        else:\n",
        "            return \"not_calisthenics_spot\"\n",
        "    else:\n",
        "        return \"Invalid image path or format\"\n",
        "\n",
        "# Set the paths for calisthenics_spot and not_calisthenics_spot folders\n",
        "calisthenics_folder = \"/content/drive/Othercomputers/Meu computador/5-periodo/method/calisthenics_spot\"\n",
        "not_calisthenics_folder = \"/content/drive/Othercomputers/Meu computador/5-periodo/method/random_images_dataset\"\n",
        "\n",
        "# Load images from the calisthenics_spot folder\n",
        "num_calisthenics_images = 6552\n",
        "calisthenics_images = load_images_from_folder(calisthenics_folder, num_calisthenics_images)\n",
        "\n",
        "# # Download random images from the Open Images V6 dataset for the not_calisthenics_spot class\n",
        "num_not_calisthenics_images = 6552\n",
        "# class_label = \"not_calisthenics_spot\"\n",
        "# # download_images(limit=num_not_calisthenics_images, annotations=class_label,\n",
        "# #                 folder=not_calisthenics_folder)\n",
        "# downloader.download(query='', limit=num_not_calisthenics_images, output_dir=not_calisthenics_folder, adult_filter_off=False, force_replace=False, timeout=60, verbose=True)\n",
        "\n",
        "# Load images from the not_calisthenics_spot folder\n",
        "not_calisthenics_images = load_images_from_folder(not_calisthenics_folder, num_not_calisthenics_images)\n",
        "\n",
        "# Create labels for the data\n",
        "calisthenics_labels = np.ones(num_calisthenics_images)\n",
        "not_calisthenics_labels = np.zeros(num_not_calisthenics_images)\n",
        "\n",
        "# Combine the data and labels for the model\n",
        "X = np.array(calisthenics_images + not_calisthenics_images)\n",
        "y = np.concatenate((calisthenics_labels, not_calisthenics_labels))\n",
        "\n",
        "# Flatten and normalize the images\n",
        "X = X.reshape(X.shape[0], -1)\n",
        "X = X.astype('object') / 255.0\n",
        "\n",
        "# Split the data into training and testing sets\n",
        "X_train, X_test, y_train, y_test = train_test_split(X, y, test_size=0.2, random_state=42)\n",
        "\n",
        "# Create and train the SVM classifier\n",
        "svm_classifier = SVC(kernel='linear', C=1.0)\n",
        "svm_classifier.fit(X_train, y_train)\n",
        "\n",
        "# Make predictions on the test set\n",
        "y_pred = svm_classifier.predict(X_test)\n",
        "\n",
        "# Calculate accuracy\n",
        "accuracy = accuracy_score(y_test, y_pred)\n",
        "print(\"Accuracy:\", accuracy)"
      ]
    },
    {
      "cell_type": "code",
      "source": [
        "import os\n",
        "import random\n",
        "import cv2\n",
        "import numpy as np\n",
        "# from openimages.download import download_images\n",
        "from bing_image_downloader import downloader\n",
        "\n",
        "from sklearn.model_selection import train_test_split\n",
        "from sklearn.svm import SVC\n",
        "from sklearn.metrics import accuracy_score"
      ],
      "metadata": {
        "id": "vz-M_Rz3kA0p"
      },
      "execution_count": 8,
      "outputs": []
    },
    {
      "cell_type": "code",
      "source": [
        "def load_images_from_folder(folder_path, num_images):\n",
        "    images = []\n",
        "    random_files = random.sample(os.listdir(folder_path), num_images)\n",
        "    for filename in random_files:\n",
        "        img_path = os.path.join(folder_path, filename)\n",
        "        img = cv2.imread(img_path)\n",
        "        if img is not None:\n",
        "            images.append(img)\n",
        "    return images\n",
        "\n",
        "def test_model(model, image_path):\n",
        "    img = cv2.imread(image_path)\n",
        "    if img is not None:\n",
        "        img = cv2.resize(img, (64, 64))  # Resize the image to match the input size during training\n",
        "        img = img.reshape(1, -1) / 255.0  # Flatten and normalize the image\n",
        "        prediction = model.predict(img)\n",
        "        if prediction[0] == 1:\n",
        "            return \"calisthenics_spot\"\n",
        "        else:\n",
        "            return \"not_calisthenics_spot\"\n",
        "    else:\n",
        "        return \"Invalid image path or format\"\n",
        "\n",
        "\n",
        "def resize_images_by_percentage(image_folder, percentage, output_folder):\n",
        "    os.makedirs(output_folder, exist_ok=True)\n",
        "    resized_images = []\n",
        "\n",
        "    for filename in os.listdir(image_folder):\n",
        "        img_path = os.path.join(image_folder, filename)\n",
        "        img = cv2.imread(img_path)\n",
        "        if img is not None:\n",
        "            new_width = int(img.shape[1] - (img.shape[1] * percentage))\n",
        "            new_height = int(img.shape[0] - (img.shape[0] * percentage))\n",
        "            resized_img = cv2.resize(img, (new_width, new_height))\n",
        "            resized_images.append(resized_img)\n",
        "            output_path = os.path.join(output_folder, filename)\n",
        "            cv2.imwrite(output_path, resized_img)\n",
        "\n",
        "    return np.array(resized_images)"
      ],
      "metadata": {
        "id": "rexH8gECkYIo"
      },
      "execution_count": 9,
      "outputs": []
    },
    {
      "cell_type": "markdown",
      "source": [
        "## Resized calisthenics spots"
      ],
      "metadata": {
        "id": "vTf9cTtg3HeU"
      }
    },
    {
      "cell_type": "code",
      "source": [
        "# Set the paths for calisthenics_spot and not_calisthenics_spot folders\n",
        "calisthenics_folder = \"/content/drive/Othercomputers/Meu computador/5-periodo/method/calisthenics_spot\"\n",
        "not_calisthenics_folder = \"/content/drive/Othercomputers/Meu computador/5-periodo/method/random_images_dataset\"\n",
        "\n",
        "# Load images from the calisthenics_spot folder\n",
        "num_calisthenics_images = 6552\n",
        "calisthenics_images = load_images_from_folder(calisthenics_folder, num_calisthenics_images)\n",
        "\n",
        "# Specify the percentage by which to resize the images\n",
        "resize_percentage = 0.8095238\n",
        "\n",
        "# Resize calisthenics_spot images by the specified percentage\n",
        "resized_calisthenics_folder = \"/content/drive/Othercomputers/Meu computador/5-periodo/method/resized_calisthenics_spotsss\"\n",
        "resized_calisthenics_images = resize_images_by_percentage(calisthenics_folder, resize_percentage, resized_calisthenics_folder)\n",
        "\n",
        "# # Download random images from the Open Images V6 dataset for the not_calisthenics_spot class\n",
        "num_not_calisthenics_images = 6552\n",
        "# class_label = \"not_calisthenics_spot\"\n",
        "# # download_images(limit=num_not_calisthenics_images, annotations=class_label,\n",
        "# #                 folder=not_calisthenics_folder)\n",
        "# downloader.download(query='', limit=num_not_calisthenics_images, output_dir=not_calisthenics_folder, adult_filter_off=False, force_replace=False, timeout=60, verbose=True)\n",
        "\n",
        "# Load images from the not_calisthenics_spot folder\n",
        "not_calisthenics_images = load_images_from_folder(not_calisthenics_folder, num_not_calisthenics_images)"
      ],
      "metadata": {
        "colab": {
          "base_uri": "https://localhost:8080/"
        },
        "id": "jpf-33cDkd0F",
        "outputId": "38687811-4675-4ada-da92-7b73d53ebbff"
      },
      "execution_count": 12,
      "outputs": [
        {
          "output_type": "stream",
          "name": "stderr",
          "text": [
            "<ipython-input-9-eb366fed2886>:40: VisibleDeprecationWarning: Creating an ndarray from ragged nested sequences (which is a list-or-tuple of lists-or-tuples-or ndarrays with different lengths or shapes) is deprecated. If you meant to do this, you must specify 'dtype=object' when creating the ndarray.\n",
            "  return np.array(resized_images)\n"
          ]
        }
      ]
    },
    {
      "cell_type": "markdown",
      "source": [
        "## Already resized"
      ],
      "metadata": {
        "id": "LJ1K1hsC3wV2"
      }
    },
    {
      "cell_type": "code",
      "source": [
        "# Set the paths for calisthenics_spot and not_calisthenics_spot folders\n",
        "calisthenics_folder = \"/content/drive/Othercomputers/Meu computador/5-periodo/method/resized_calisthenics_spotsss\"\n",
        "not_calisthenics_folder = \"/content/drive/Othercomputers/Meu computador/5-periodo/method/random_images_dataset\"\n",
        "\n",
        "# Load images from the calisthenics_spot folder\n",
        "num_calisthenics_images = 6552\n",
        "calisthenics_images = load_images_from_folder(calisthenics_folder, num_calisthenics_images)\n",
        "\n",
        "# Load images from the not calisthenics_spot folder\n",
        "num_not_calisthenics_images = 6552\n",
        "not_calisthenics_images = load_images_from_folder(not_calisthenics_folder, num_not_calisthenics_images)"
      ],
      "metadata": {
        "id": "eM-FFyGC2gGb"
      },
      "execution_count": 13,
      "outputs": []
    },
    {
      "cell_type": "code",
      "source": [
        "a = []\n",
        "while(1): a.append('1')"
      ],
      "metadata": {
        "id": "hnRTFsTLwizC"
      },
      "execution_count": null,
      "outputs": []
    },
    {
      "cell_type": "code",
      "source": [
        "# Create labels for the data\n",
        "calisthenics_labels = np.ones(shape=num_calisthenics_images, dtype=int)\n",
        "not_calisthenics_labels = np.zeros(shape=num_not_calisthenics_images, dtype=int)\n",
        "\n",
        "# Combine the data and labels for the model\n",
        "X = np.array(object=(calisthenics_images + not_calisthenics_images), dtype=object)\n",
        "y = np.concatenate((calisthenics_labels, not_calisthenics_labels))\n",
        "\n",
        "# Flatten and normalize the images\n",
        "X = X.reshape(X.shape[0], -1)\n",
        "X = X.astype('float32') / 255.0\n",
        "\n",
        "# Split the data into training and testing sets\n",
        "X_train, X_test, y_train, y_test = train_test_split(X, y, test_size=0.2, random_state=42)\n",
        "\n",
        "# Create and train the SVM classifier\n",
        "svm_classifier = SVC(kernel='linear', C=1.0)\n",
        "svm_classifier.fit(X_train, y_train)\n",
        "\n",
        "# Make predictions on the test set\n",
        "y_pred = svm_classifier.predict(X_test)\n",
        "\n",
        "# Calculate accuracy\n",
        "accuracy = accuracy_score(y_test, y_pred)\n",
        "print(\"Accuracy:\", accuracy)"
      ],
      "metadata": {
        "colab": {
          "base_uri": "https://localhost:8080/",
          "height": 346
        },
        "id": "tZOGfHEok5if",
        "outputId": "b1e23d7e-de40-48eb-f88e-9440613fe1ed"
      },
      "execution_count": 19,
      "outputs": [
        {
          "output_type": "error",
          "ename": "ValueError",
          "evalue": "ignored",
          "traceback": [
            "\u001b[0;31m---------------------------------------------------------------------------\u001b[0m",
            "\u001b[0;31mTypeError\u001b[0m                                 Traceback (most recent call last)",
            "\u001b[0;31mTypeError\u001b[0m: only size-1 arrays can be converted to Python scalars",
            "\nThe above exception was the direct cause of the following exception:\n",
            "\u001b[0;31mValueError\u001b[0m                                Traceback (most recent call last)",
            "\u001b[0;32m<ipython-input-19-8fa8683fa4b7>\u001b[0m in \u001b[0;36m<cell line: 11>\u001b[0;34m()\u001b[0m\n\u001b[1;32m      9\u001b[0m \u001b[0;31m# Flatten and normalize the images\u001b[0m\u001b[0;34m\u001b[0m\u001b[0;34m\u001b[0m\u001b[0m\n\u001b[1;32m     10\u001b[0m \u001b[0mX\u001b[0m \u001b[0;34m=\u001b[0m \u001b[0mX\u001b[0m\u001b[0;34m.\u001b[0m\u001b[0mreshape\u001b[0m\u001b[0;34m(\u001b[0m\u001b[0mX\u001b[0m\u001b[0;34m.\u001b[0m\u001b[0mshape\u001b[0m\u001b[0;34m[\u001b[0m\u001b[0;36m0\u001b[0m\u001b[0;34m]\u001b[0m\u001b[0;34m,\u001b[0m \u001b[0;34m-\u001b[0m\u001b[0;36m1\u001b[0m\u001b[0;34m)\u001b[0m\u001b[0;34m\u001b[0m\u001b[0;34m\u001b[0m\u001b[0m\n\u001b[0;32m---> 11\u001b[0;31m \u001b[0mX\u001b[0m \u001b[0;34m=\u001b[0m \u001b[0mX\u001b[0m\u001b[0;34m.\u001b[0m\u001b[0mastype\u001b[0m\u001b[0;34m(\u001b[0m\u001b[0;34m'float32'\u001b[0m\u001b[0;34m)\u001b[0m \u001b[0;34m/\u001b[0m \u001b[0;36m255.0\u001b[0m\u001b[0;34m\u001b[0m\u001b[0;34m\u001b[0m\u001b[0m\n\u001b[0m\u001b[1;32m     12\u001b[0m \u001b[0;34m\u001b[0m\u001b[0m\n\u001b[1;32m     13\u001b[0m \u001b[0;31m# Split the data into training and testing sets\u001b[0m\u001b[0;34m\u001b[0m\u001b[0;34m\u001b[0m\u001b[0m\n",
            "\u001b[0;31mValueError\u001b[0m: setting an array element with a sequence."
          ]
        }
      ]
    },
    {
      "cell_type": "code",
      "source": [
        "import os\n",
        "import cv2\n",
        "import numpy as np\n",
        "\n",
        "def calculate_average_image_size(image_folder):\n",
        "    total_width = 0\n",
        "    total_height = 0\n",
        "    num_images = 0\n",
        "\n",
        "    for filename in os.listdir(image_folder):\n",
        "        img_path = os.path.join(image_folder, filename)\n",
        "        img = cv2.imread(img_path)\n",
        "        if img is not None:\n",
        "            total_width += img.shape[1]\n",
        "            total_height += img.shape[0]\n",
        "            num_images += 1\n",
        "\n",
        "    average_width = total_width // num_images\n",
        "    average_height = total_height // num_images\n",
        "\n",
        "    return average_width, average_height\n"
      ],
      "metadata": {
        "id": "odceQz4gNMS4"
      },
      "execution_count": null,
      "outputs": []
    },
    {
      "cell_type": "code",
      "source": [
        "def resize_images(image_folder, average_width, average_height, output_folder):\n",
        "    os.makedirs(output_folder, exist_ok=True)\n",
        "\n",
        "    for filename in os.listdir(image_folder):\n",
        "        img_path = os.path.join(image_folder, filename)\n",
        "        img = cv2.imread(img_path)\n",
        "        if img is not None:\n",
        "            width = img.shape[1]\n",
        "            height = img.shape[0]\n",
        "\n",
        "            target_width = width * (average_width / width)\n",
        "            target_height = height * (average_height / height)\n",
        "\n",
        "            resized_img = cv2.resize(img, (target_width, target_height))\n",
        "            output_path = os.path.join(output_folder, filename)\n",
        "            cv2.imwrite(output_path, resized_img)\n",
        "\n",
        "# Set the paths for calisthenics_spot and not_calisthenics_spot folders\n",
        "calisthenics_folder = \"./spots/calisthenics_spot\"\n",
        "not_calisthenics_folder = \"./not_calisthenics_spot\"\n",
        "\n",
        "# Calculate the average size of not_calisthenics_spot images\n",
        "average_width, average_height = calculate_average_image_size(not_calisthenics_folder)\n",
        "\n",
        "# Resize calisthenics_spot images to match the average size\n",
        "resized_calisthenics_folder = \"./resized_calisthenics_spot\"\n",
        "resize_images(calisthenics_folder, average_width, average_height, resized_calisthenics_folder)"
      ],
      "metadata": {
        "id": "JfqIEvcJNP--"
      },
      "execution_count": null,
      "outputs": []
    }
  ]
}